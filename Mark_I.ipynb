{
 "cells": [
  {
   "cell_type": "code",
   "execution_count": null,
   "metadata": {},
   "outputs": [],
   "source": [
    "# CompEng Project, First Attempt\n",
    "#\n",
    "# 5 layers total, adam optimizer\n",
    "# 55% (ish) accuracy"
   ]
  },
  {
   "cell_type": "code",
   "execution_count": 1,
   "metadata": {},
   "outputs": [],
   "source": [
    "import pandas as pd\n",
    "import numpy as np"
   ]
  },
  {
   "cell_type": "code",
   "execution_count": 2,
   "metadata": {},
   "outputs": [],
   "source": [
    "from tensorflow.python import keras"
   ]
  },
  {
   "cell_type": "code",
   "execution_count": 3,
   "metadata": {},
   "outputs": [],
   "source": [
    "from tensorflow.python.keras.models import Sequential\n",
    "from tensorflow.python.keras.layers import Dense, Flatten, Conv2D, Dropout"
   ]
  },
  {
   "cell_type": "code",
   "execution_count": 4,
   "metadata": {},
   "outputs": [],
   "source": [
    "from tensorflow.python.keras.preprocessing.image import ImageDataGenerator"
   ]
  },
  {
   "cell_type": "code",
   "execution_count": 5,
   "metadata": {},
   "outputs": [
    {
     "name": "stdout",
     "output_type": "stream",
     "text": [
      "Found 69600 images belonging to 29 classes.\n",
      "Found 17400 images belonging to 29 classes.\n"
     ]
    }
   ],
   "source": [
    "data_gen = ImageDataGenerator(validation_split = 0.2)\n",
    "training = data_gen.flow_from_directory('asl-alphabet/asl_alphabet_train/asl_alphabet_train', \n",
    "                                         class_mode = 'categorical', \n",
    "                                         batch_size = 64,\n",
    "                                         target_size = (64, 64),\n",
    "                                         subset = 'training')\n",
    "validating = data_gen.flow_from_directory('asl-alphabet/asl_alphabet_train/asl_alphabet_train',\n",
    "                                           target_size = (64, 64),\n",
    "                                           subset = 'validation')"
   ]
  },
  {
   "cell_type": "code",
   "execution_count": 6,
   "metadata": {},
   "outputs": [],
   "source": [
    "asl_model = Sequential()"
   ]
  },
  {
   "cell_type": "code",
   "execution_count": 7,
   "metadata": {},
   "outputs": [],
   "source": [
    "asl_model.add(Conv2D(64, kernel_size=(3, 3),\n",
    "                 activation='relu',\n",
    "                 input_shape=(64,64,3)))\n",
    "asl_model.add(Conv2D(20, kernel_size=(3, 3), activation='relu'))\n",
    "asl_model.add(Flatten())\n",
    "asl_model.add(Dense(128, activation='relu'))\n",
    "asl_model.add(Dense(29, activation='softmax'))"
   ]
  },
  {
   "cell_type": "code",
   "execution_count": 8,
   "metadata": {},
   "outputs": [
    {
     "name": "stdout",
     "output_type": "stream",
     "text": [
      "Model: \"sequential\"\n",
      "_________________________________________________________________\n",
      "Layer (type)                 Output Shape              Param #   \n",
      "=================================================================\n",
      "conv2d (Conv2D)              (None, 62, 62, 64)        1792      \n",
      "_________________________________________________________________\n",
      "conv2d_1 (Conv2D)            (None, 60, 60, 20)        11540     \n",
      "_________________________________________________________________\n",
      "flatten (Flatten)            (None, 72000)             0         \n",
      "_________________________________________________________________\n",
      "dense (Dense)                (None, 128)               9216128   \n",
      "_________________________________________________________________\n",
      "dense_1 (Dense)              (None, 29)                3741      \n",
      "=================================================================\n",
      "Total params: 9,233,201\n",
      "Trainable params: 9,233,201\n",
      "Non-trainable params: 0\n",
      "_________________________________________________________________\n"
     ]
    }
   ],
   "source": [
    "asl_model.summary()"
   ]
  },
  {
   "cell_type": "code",
   "execution_count": 9,
   "metadata": {},
   "outputs": [],
   "source": [
    "asl_model.compile(loss = 'categorical_crossentropy',\n",
    "                  optimizer = 'adam',\n",
    "                  metrics = (['accuracy']))"
   ]
  },
  {
   "cell_type": "code",
   "execution_count": 10,
   "metadata": {},
   "outputs": [
    {
     "name": "stdout",
     "output_type": "stream",
     "text": [
      "WARNING:tensorflow:From <ipython-input-10-246cceb614a0>:1: Model.fit_generator (from tensorflow.python.keras.engine.training) is deprecated and will be removed in a future version.\n",
      "Instructions for updating:\n",
      "Please use Model.fit, which supports generators.\n",
      "WARNING:tensorflow:sample_weight modes were coerced from\n",
      "  ...\n",
      "    to  \n",
      "  ['...']\n",
      "WARNING:tensorflow:sample_weight modes were coerced from\n",
      "  ...\n",
      "    to  \n",
      "  ['...']\n",
      "Train for 1088 steps, validate for 544 steps\n",
      "Epoch 1/5\n",
      "1088/1088 [==============================] - 804s 739ms/step - loss: 2.8210 - accuracy: 0.7283 - val_loss: 1.6774 - val_accuracy: 0.5282\n",
      "Epoch 2/5\n",
      "1088/1088 [==============================] - 478s 439ms/step - loss: 0.1909 - accuracy: 0.9380 - val_loss: 2.7693 - val_accuracy: 0.5704\n",
      "Epoch 3/5\n",
      "1088/1088 [==============================] - 511s 470ms/step - loss: 0.1372 - accuracy: 0.9568 - val_loss: 2.5205 - val_accuracy: 0.5591\n",
      "Epoch 4/5\n",
      "1088/1088 [==============================] - 499s 459ms/step - loss: 0.1007 - accuracy: 0.9684 - val_loss: 2.6004 - val_accuracy: 0.5559\n",
      "Epoch 5/5\n",
      "1088/1088 [==============================] - 510s 468ms/step - loss: 0.0915 - accuracy: 0.9734 - val_loss: 2.7724 - val_accuracy: 0.5908\n"
     ]
    },
    {
     "data": {
      "text/plain": [
       "<tensorflow.python.keras.callbacks.History at 0x25b121ad2c8>"
      ]
     },
     "execution_count": 10,
     "metadata": {},
     "output_type": "execute_result"
    }
   ],
   "source": [
    "asl_model.fit_generator(training, epochs=5, validation_data=validating)"
   ]
  },
  {
   "cell_type": "code",
   "execution_count": null,
   "metadata": {},
   "outputs": [],
   "source": []
  }
 ],
 "metadata": {
  "kernelspec": {
   "display_name": "Python 3",
   "language": "python",
   "name": "python3"
  },
  "language_info": {
   "codemirror_mode": {
    "name": "ipython",
    "version": 3
   },
   "file_extension": ".py",
   "mimetype": "text/x-python",
   "name": "python",
   "nbconvert_exporter": "python",
   "pygments_lexer": "ipython3",
   "version": "3.7.7"
  }
 },
 "nbformat": 4,
 "nbformat_minor": 4
}
