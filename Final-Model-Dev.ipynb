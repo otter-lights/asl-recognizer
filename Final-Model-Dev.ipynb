{
 "cells": [
  {
   "cell_type": "code",
   "execution_count": 1,
   "metadata": {},
   "outputs": [],
   "source": [
    "import pandas as pd\n",
    "import numpy as np"
   ]
  },
  {
   "cell_type": "code",
   "execution_count": 2,
   "metadata": {},
   "outputs": [],
   "source": [
    "from tensorflow.python import keras"
   ]
  },
  {
   "cell_type": "code",
   "execution_count": 3,
   "metadata": {},
   "outputs": [],
   "source": [
    "from tensorflow.python.keras.models import Sequential\n",
    "from tensorflow.python.keras.layers import Dense, Flatten, Conv2D, Dropout, BatchNormalization"
   ]
  },
  {
   "cell_type": "code",
   "execution_count": 4,
   "metadata": {},
   "outputs": [],
   "source": [
    "from tensorflow.python.keras.preprocessing.image import ImageDataGenerator"
   ]
  },
  {
   "cell_type": "code",
   "execution_count": 5,
   "metadata": {},
   "outputs": [
    {
     "name": "stdout",
     "output_type": "stream",
     "text": [
      "Found 62400 images belonging to 26 classes.\n",
      "Found 15600 images belonging to 26 classes.\n"
     ]
    }
   ],
   "source": [
    "data_gen = ImageDataGenerator(validation_split = 0.2)\n",
    "training = data_gen.flow_from_directory('asl-alphabet/asl_alphabet_train/asl_alphabet_train', \n",
    "                                         class_mode = 'categorical', \n",
    "                                         batch_size = 64,\n",
    "                                         target_size = (200, 200),\n",
    "                                         subset = 'training')\n",
    "validating = data_gen.flow_from_directory('asl-alphabet/asl_alphabet_train/asl_alphabet_train',\n",
    "                                           target_size = (200, 200),\n",
    "                                           subset = 'validation')"
   ]
  },
  {
   "cell_type": "code",
   "execution_count": 6,
   "metadata": {},
   "outputs": [
    {
     "name": "stdout",
     "output_type": "stream",
     "text": [
      "{'A': 0, 'B': 1, 'C': 2, 'D': 3, 'E': 4, 'F': 5, 'G': 6, 'H': 7, 'I': 8, 'J': 9, 'K': 10, 'L': 11, 'M': 12, 'N': 13, 'O': 14, 'P': 15, 'Q': 16, 'R': 17, 'S': 18, 'T': 19, 'U': 20, 'V': 21, 'W': 22, 'X': 23, 'Y': 24, 'Z': 25}\n"
     ]
    }
   ],
   "source": [
    "print (training.class_indices)"
   ]
  },
  {
   "cell_type": "code",
   "execution_count": 7,
   "metadata": {},
   "outputs": [],
   "source": [
    "asl_model = Sequential()"
   ]
  },
  {
   "cell_type": "code",
   "execution_count": 8,
   "metadata": {},
   "outputs": [],
   "source": [
    "asl_model.add(Conv2D(64, kernel_size=(3, 3),\n",
    "                 activation='relu',\n",
    "                 input_shape=(200,200,3)))\n",
    "asl_model.add(Conv2D(20, kernel_size=(2, 2), activation='relu'))\n",
    "asl_model.add(Conv2D(20, kernel_size=(3, 3), activation='relu'))\n",
    "asl_model.add(Conv2D(20, kernel_size=(1, 1), activation='relu'))\n",
    "\n",
    "asl_model.add(Flatten())\n",
    "asl_model.add(Dense(128, activation='relu'))\n",
    "asl_model.add(BatchNormalization())\n",
    "asl_model.add(Dense(128, activation='relu'))\n",
    "asl_model.add(Dense(26, activation='softmax'))"
   ]
  },
  {
   "cell_type": "code",
   "execution_count": 9,
   "metadata": {},
   "outputs": [
    {
     "name": "stdout",
     "output_type": "stream",
     "text": [
      "Model: \"sequential\"\n",
      "_________________________________________________________________\n",
      "Layer (type)                 Output Shape              Param #   \n",
      "=================================================================\n",
      "conv2d (Conv2D)              (None, 198, 198, 64)      1792      \n",
      "_________________________________________________________________\n",
      "conv2d_1 (Conv2D)            (None, 197, 197, 20)      5140      \n",
      "_________________________________________________________________\n",
      "conv2d_2 (Conv2D)            (None, 195, 195, 20)      3620      \n",
      "_________________________________________________________________\n",
      "conv2d_3 (Conv2D)            (None, 195, 195, 20)      420       \n",
      "_________________________________________________________________\n",
      "flatten (Flatten)            (None, 760500)            0         \n",
      "_________________________________________________________________\n",
      "dense (Dense)                (None, 128)               97344128  \n",
      "_________________________________________________________________\n",
      "batch_normalization (BatchNo (None, 128)               512       \n",
      "_________________________________________________________________\n",
      "dense_1 (Dense)              (None, 128)               16512     \n",
      "_________________________________________________________________\n",
      "dense_2 (Dense)              (None, 26)                3354      \n",
      "=================================================================\n",
      "Total params: 97,375,478\n",
      "Trainable params: 97,375,222\n",
      "Non-trainable params: 256\n",
      "_________________________________________________________________\n"
     ]
    }
   ],
   "source": [
    "asl_model.summary()"
   ]
  },
  {
   "cell_type": "code",
   "execution_count": 10,
   "metadata": {},
   "outputs": [],
   "source": [
    "asl_model.compile(loss = 'categorical_crossentropy',\n",
    "                  optimizer = 'adam',\n",
    "                  metrics = (['accuracy']))"
   ]
  },
  {
   "cell_type": "code",
   "execution_count": 11,
   "metadata": {},
   "outputs": [
    {
     "name": "stdout",
     "output_type": "stream",
     "text": [
      "WARNING:tensorflow:sample_weight modes were coerced from\n",
      "  ...\n",
      "    to  \n",
      "  ['...']\n",
      "WARNING:tensorflow:sample_weight modes were coerced from\n",
      "  ...\n",
      "    to  \n",
      "  ['...']\n",
      "Train for 975 steps, validate for 488 steps\n",
      "Epoch 1/15\n",
      "975/975 [==============================] - 4533s 5s/step - loss: 0.8554 - accuracy: 0.7421 - val_loss: 2.5117 - val_accuracy: 0.4367\n",
      "Epoch 2/15\n",
      "975/975 [==============================] - 4474s 5s/step - loss: 0.0895 - accuracy: 0.9739 - val_loss: 3.5482 - val_accuracy: 0.3726\n",
      "Epoch 3/15\n",
      "975/975 [==============================] - 4469s 5s/step - loss: 0.0408 - accuracy: 0.9881 - val_loss: 2.6421 - val_accuracy: 0.5147\n",
      "Epoch 4/15\n",
      "975/975 [==============================] - 4492s 5s/step - loss: 0.0124 - accuracy: 0.9985 - val_loss: 1.2246 - val_accuracy: 0.6945\n",
      "Epoch 5/15\n",
      "975/975 [==============================] - 4717s 5s/step - loss: 0.0043 - accuracy: 1.0000 - val_loss: 1.3932 - val_accuracy: 0.6824\n",
      "Epoch 6/15\n",
      "975/975 [==============================] - 5340s 5s/step - loss: 0.0023 - accuracy: 1.0000 - val_loss: 1.5436 - val_accuracy: 0.6744\n",
      "Epoch 7/15\n",
      "975/975 [==============================] - 5363s 6s/step - loss: 0.0015 - accuracy: 1.0000 - val_loss: 1.4078 - val_accuracy: 0.6894\n"
     ]
    },
    {
     "data": {
      "text/plain": [
       "<tensorflow.python.keras.callbacks.History at 0x24a32246a88>"
      ]
     },
     "execution_count": 11,
     "metadata": {},
     "output_type": "execute_result"
    }
   ],
   "source": [
    "from tensorflow.keras.callbacks import EarlyStopping, ReduceLROnPlateau\n",
    "asl_model.fit(training, \n",
    "              epochs=15, \n",
    "              validation_data=validating,\n",
    "              callbacks=[EarlyStopping(patience=3, restore_best_weights=True),\n",
    "                         ReduceLROnPlateau(patience=2)])"
   ]
  },
  {
   "cell_type": "code",
   "execution_count": 13,
   "metadata": {},
   "outputs": [],
   "source": [
    "asl_model.save('200p-model.h5')"
   ]
  },
  {
   "cell_type": "code",
   "execution_count": null,
   "metadata": {},
   "outputs": [],
   "source": []
  }
 ],
 "metadata": {
  "kernelspec": {
   "display_name": "Python 3",
   "language": "python",
   "name": "python3"
  },
  "language_info": {
   "codemirror_mode": {
    "name": "ipython",
    "version": 3
   },
   "file_extension": ".py",
   "mimetype": "text/x-python",
   "name": "python",
   "nbconvert_exporter": "python",
   "pygments_lexer": "ipython3",
   "version": "3.7.7"
  }
 },
 "nbformat": 4,
 "nbformat_minor": 4
}
