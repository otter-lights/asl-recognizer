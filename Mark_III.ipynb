{
 "cells": [
  {
   "cell_type": "code",
   "execution_count": 1,
   "metadata": {},
   "outputs": [],
   "source": [
    "# CompEng Project, Third Attempt\n",
    "#\n",
    "# 12 layers total, sgd optimizer, 0.1% LR\n",
    "# peaked at 40% accuracy after 12 epochs"
   ]
  },
  {
   "cell_type": "code",
   "execution_count": 2,
   "metadata": {},
   "outputs": [],
   "source": [
    "import pandas as pd\n",
    "import numpy as np"
   ]
  },
  {
   "cell_type": "code",
   "execution_count": 3,
   "metadata": {},
   "outputs": [],
   "source": [
    "from tensorflow.python import keras"
   ]
  },
  {
   "cell_type": "code",
   "execution_count": 4,
   "metadata": {},
   "outputs": [],
   "source": [
    "from tensorflow.python.keras.models import Sequential\n",
    "from tensorflow.python.keras.layers import Dense, Flatten, Conv2D, Dropout, MaxPool2D"
   ]
  },
  {
   "cell_type": "code",
   "execution_count": 5,
   "metadata": {},
   "outputs": [],
   "source": [
    "from tensorflow.python.keras.preprocessing.image import ImageDataGenerator"
   ]
  },
  {
   "cell_type": "code",
   "execution_count": 6,
   "metadata": {},
   "outputs": [
    {
     "name": "stdout",
     "output_type": "stream",
     "text": [
      "Found 69600 images belonging to 29 classes.\n",
      "Found 17400 images belonging to 29 classes.\n"
     ]
    }
   ],
   "source": [
    "data_gen = ImageDataGenerator(validation_split = 0.2)\n",
    "training = data_gen.flow_from_directory('asl-alphabet/asl_alphabet_train/asl_alphabet_train', \n",
    "                                         class_mode = 'categorical', \n",
    "                                         batch_size = 64,\n",
    "                                         target_size = (64, 64),\n",
    "                                         subset = 'training')\n",
    "validating = data_gen.flow_from_directory('asl-alphabet/asl_alphabet_train/asl_alphabet_train',\n",
    "                                           target_size = (64, 64),\n",
    "                                           subset = 'validation')"
   ]
  },
  {
   "cell_type": "code",
   "execution_count": 7,
   "metadata": {},
   "outputs": [],
   "source": [
    "asl_model = Sequential()"
   ]
  },
  {
   "cell_type": "code",
   "execution_count": 8,
   "metadata": {},
   "outputs": [],
   "source": [
    "asl_model.add(Conv2D(64, kernel_size=(3, 3),\n",
    "                 activation='relu',\n",
    "                 input_shape=(64,64,3)))\n",
    "asl_model.add(Dropout(0.5))\n",
    "asl_model.add(Conv2D(20, kernel_size=(3, 3), activation='relu'))\n",
    "asl_model.add(Dropout(0.5))\n",
    "asl_model.add(Conv2D(20, kernel_size=(3, 3), activation='relu'))\n",
    "asl_model.add(Dropout(0.5))\n",
    "asl_model.add(Conv2D(20, kernel_size=(3, 3), activation='relu'))\n",
    "asl_model.add(Flatten())\n",
    "asl_model.add(Dense(128, activation='relu'))\n",
    "asl_model.add(Dense(128, activation='relu'))\n",
    "asl_model.add(Dense(29, activation='softmax'))"
   ]
  },
  {
   "cell_type": "code",
   "execution_count": 9,
   "metadata": {},
   "outputs": [
    {
     "name": "stdout",
     "output_type": "stream",
     "text": [
      "Model: \"sequential\"\n",
      "_________________________________________________________________\n",
      "Layer (type)                 Output Shape              Param #   \n",
      "=================================================================\n",
      "conv2d (Conv2D)              (None, 62, 62, 64)        1792      \n",
      "_________________________________________________________________\n",
      "dropout (Dropout)            (None, 62, 62, 64)        0         \n",
      "_________________________________________________________________\n",
      "conv2d_1 (Conv2D)            (None, 60, 60, 20)        11540     \n",
      "_________________________________________________________________\n",
      "max_pooling2d (MaxPooling2D) (None, 20, 20, 20)        0         \n",
      "_________________________________________________________________\n",
      "dropout_1 (Dropout)          (None, 20, 20, 20)        0         \n",
      "_________________________________________________________________\n",
      "conv2d_2 (Conv2D)            (None, 18, 18, 20)        3620      \n",
      "_________________________________________________________________\n",
      "dropout_2 (Dropout)          (None, 18, 18, 20)        0         \n",
      "_________________________________________________________________\n",
      "conv2d_3 (Conv2D)            (None, 16, 16, 20)        3620      \n",
      "_________________________________________________________________\n",
      "flatten (Flatten)            (None, 5120)              0         \n",
      "_________________________________________________________________\n",
      "dense (Dense)                (None, 128)               655488    \n",
      "_________________________________________________________________\n",
      "dense_1 (Dense)              (None, 128)               16512     \n",
      "_________________________________________________________________\n",
      "dense_2 (Dense)              (None, 29)                3741      \n",
      "=================================================================\n",
      "Total params: 696,313\n",
      "Trainable params: 696,313\n",
      "Non-trainable params: 0\n",
      "_________________________________________________________________\n"
     ]
    }
   ],
   "source": [
    "asl_model.summary()"
   ]
  },
  {
   "cell_type": "code",
   "execution_count": 13,
   "metadata": {},
   "outputs": [],
   "source": [
    "from tensorflow.keras.optimizers import Adagrad\n",
    "opt = Adagrad(lr=0.005)\n",
    "asl_model.compile(loss = 'categorical_crossentropy',\n",
    "                  optimizer = opt,\n",
    "                  metrics = (['accuracy']))"
   ]
  },
  {
   "cell_type": "code",
   "execution_count": null,
   "metadata": {},
   "outputs": [
    {
     "name": "stdout",
     "output_type": "stream",
     "text": [
      "WARNING:tensorflow:sample_weight modes were coerced from\n",
      "  ...\n",
      "    to  \n",
      "  ['...']\n",
      "WARNING:tensorflow:sample_weight modes were coerced from\n",
      "  ...\n",
      "    to  \n",
      "  ['...']\n",
      "Train for 1088 steps, validate for 544 steps\n",
      "Epoch 1/25\n",
      "1088/1088 [==============================] - 677s 622ms/step - loss: 3.4742 - accuracy: 0.0587 - val_loss: 3.3159 - val_accuracy: 0.0675\n",
      "Epoch 2/25\n",
      "1088/1088 [==============================] - 654s 602ms/step - loss: 2.5646 - accuracy: 0.2671 - val_loss: 2.5761 - val_accuracy: 0.2481\n",
      "Epoch 3/25\n",
      "1088/1088 [==============================] - 680s 625ms/step - loss: 1.5520 - accuracy: 0.5277 - val_loss: 2.1570 - val_accuracy: 0.3419\n",
      "Epoch 4/25\n",
      "1088/1088 [==============================] - 693s 637ms/step - loss: 1.0298 - accuracy: 0.6762 - val_loss: 2.0347 - val_accuracy: 0.3847\n",
      "Epoch 5/25\n",
      "1088/1088 [==============================] - 719s 661ms/step - loss: 0.7490 - accuracy: 0.7589 - val_loss: 1.8762 - val_accuracy: 0.4570\n",
      "Epoch 6/25\n",
      "1088/1088 [==============================] - 709s 651ms/step - loss: 0.5843 - accuracy: 0.8114 - val_loss: 1.8404 - val_accuracy: 0.4693\n",
      "Epoch 7/25\n",
      "1088/1088 [==============================] - 668s 614ms/step - loss: 0.4674 - accuracy: 0.8462 - val_loss: 1.8647 - val_accuracy: 0.4956\n",
      "Epoch 8/25\n",
      "1088/1088 [==============================] - 658s 605ms/step - loss: 0.3934 - accuracy: 0.8715 - val_loss: 1.7744 - val_accuracy: 0.5255\n",
      "Epoch 9/25\n",
      "1088/1088 [==============================] - 660s 606ms/step - loss: 0.3378 - accuracy: 0.8893 - val_loss: 1.6831 - val_accuracy: 0.5543\n",
      "Epoch 10/25\n",
      "1088/1088 [==============================] - 657s 604ms/step - loss: 0.2940 - accuracy: 0.9025 - val_loss: 1.7486 - val_accuracy: 0.5498\n",
      "Epoch 11/25\n",
      "1088/1088 [==============================] - 675s 620ms/step - loss: 0.2593 - accuracy: 0.9136 - val_loss: 1.7748 - val_accuracy: 0.5579\n",
      "Epoch 12/25\n",
      " 439/1088 [===========>..................] - ETA: 6:33 - loss: 0.2303 - accuracy: 0.9227"
     ]
    }
   ],
   "source": [
    "asl_model.fit(training, \n",
    "              epochs=25, \n",
    "              validation_data=validating)"
   ]
  },
  {
   "cell_type": "code",
   "execution_count": null,
   "metadata": {},
   "outputs": [],
   "source": []
  }
 ],
 "metadata": {
  "kernelspec": {
   "display_name": "Python 3",
   "language": "python",
   "name": "python3"
  },
  "language_info": {
   "codemirror_mode": {
    "name": "ipython",
    "version": 3
   },
   "file_extension": ".py",
   "mimetype": "text/x-python",
   "name": "python",
   "nbconvert_exporter": "python",
   "pygments_lexer": "ipython3",
   "version": "3.7.7"
  }
 },
 "nbformat": 4,
 "nbformat_minor": 4
}
