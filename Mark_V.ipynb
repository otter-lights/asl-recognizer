{
 "cells": [
  {
   "cell_type": "code",
   "execution_count": 1,
   "metadata": {},
   "outputs": [],
   "source": [
    "# CompEng Project, Fourth Attempt\n",
    "#\n",
    "# 12 layers total, sgd optimizer, 0.1% LR, callbacks (Early Stopping and Plateau LR)\n",
    "# 58% peak accuracy, ended after 7 epochs by Early Stopping"
   ]
  },
  {
   "cell_type": "code",
   "execution_count": 2,
   "metadata": {},
   "outputs": [],
   "source": [
    "import pandas as pd\n",
    "import numpy as np"
   ]
  },
  {
   "cell_type": "code",
   "execution_count": 3,
   "metadata": {},
   "outputs": [],
   "source": [
    "from tensorflow.python import keras"
   ]
  },
  {
   "cell_type": "code",
   "execution_count": 4,
   "metadata": {},
   "outputs": [],
   "source": [
    "from tensorflow.python.keras.models import Sequential\n",
    "from tensorflow.python.keras.layers import Dense, Flatten, Conv2D, Dropout, MaxPool2D"
   ]
  },
  {
   "cell_type": "code",
   "execution_count": 5,
   "metadata": {},
   "outputs": [],
   "source": [
    "from tensorflow.python.keras.preprocessing.image import ImageDataGenerator"
   ]
  },
  {
   "cell_type": "code",
   "execution_count": 15,
   "metadata": {},
   "outputs": [
    {
     "name": "stdout",
     "output_type": "stream",
     "text": [
      "Found 69600 images belonging to 29 classes.\n",
      "Found 17400 images belonging to 29 classes.\n"
     ]
    }
   ],
   "source": [
    "data_gen = ImageDataGenerator(validation_split = 0.2)\n",
    "\n",
    "training = data_gen.flow_from_directory('asl-alphabet/asl_alphabet_train/asl_alphabet_train', \n",
    "                                         class_mode = 'categorical', \n",
    "                                         batch_size = 32,\n",
    "                                         target_size = (64, 64),\n",
    "                                         subset = 'training')\n",
    "validating = data_gen.flow_from_directory('asl-alphabet/asl_alphabet_train/asl_alphabet_train',\n",
    "                                           target_size = (64, 64),\n",
    "                                           subset = 'validation')"
   ]
  },
  {
   "cell_type": "code",
   "execution_count": 8,
   "metadata": {},
   "outputs": [],
   "source": [
    "asl_model = Sequential()"
   ]
  },
  {
   "cell_type": "code",
   "execution_count": 9,
   "metadata": {},
   "outputs": [],
   "source": [
    "asl_model.add(Conv2D(64, kernel_size=(3, 3),\n",
    "                 activation='relu',\n",
    "                 input_shape=(64,64,3)))\n",
    "asl_model.add(Dropout(0.5))\n",
    "asl_model.add(Conv2D(20, kernel_size=(3, 3), activation='relu'))\n",
    "asl_model.add(MaxPool2D(pool_size = [3,3]))\n",
    "asl_model.add(Dropout(0.5))\n",
    "asl_model.add(Conv2D(20, kernel_size=(3, 3), activation='relu'))\n",
    "asl_model.add(Flatten())\n",
    "asl_model.add(Dense(128, activation='relu'))\n",
    "asl_model.add(Dense(29, activation='softmax'))"
   ]
  },
  {
   "cell_type": "code",
   "execution_count": 10,
   "metadata": {},
   "outputs": [
    {
     "name": "stdout",
     "output_type": "stream",
     "text": [
      "Model: \"sequential\"\n",
      "_________________________________________________________________\n",
      "Layer (type)                 Output Shape              Param #   \n",
      "=================================================================\n",
      "conv2d (Conv2D)              (None, 62, 62, 64)        1792      \n",
      "_________________________________________________________________\n",
      "dropout (Dropout)            (None, 62, 62, 64)        0         \n",
      "_________________________________________________________________\n",
      "conv2d_1 (Conv2D)            (None, 60, 60, 20)        11540     \n",
      "_________________________________________________________________\n",
      "max_pooling2d (MaxPooling2D) (None, 20, 20, 20)        0         \n",
      "_________________________________________________________________\n",
      "dropout_1 (Dropout)          (None, 20, 20, 20)        0         \n",
      "_________________________________________________________________\n",
      "conv2d_2 (Conv2D)            (None, 18, 18, 20)        3620      \n",
      "_________________________________________________________________\n",
      "flatten (Flatten)            (None, 6480)              0         \n",
      "_________________________________________________________________\n",
      "dense (Dense)                (None, 128)               829568    \n",
      "_________________________________________________________________\n",
      "dense_1 (Dense)              (None, 29)                3741      \n",
      "=================================================================\n",
      "Total params: 850,261\n",
      "Trainable params: 850,261\n",
      "Non-trainable params: 0\n",
      "_________________________________________________________________\n"
     ]
    }
   ],
   "source": [
    "asl_model.summary()"
   ]
  },
  {
   "cell_type": "code",
   "execution_count": 11,
   "metadata": {},
   "outputs": [],
   "source": [
    "from tensorflow.keras.optimizers import SGD\n",
    "opt = SGD(lr=0.01, nesterov=True)\n",
    "asl_model.compile(loss = 'categorical_crossentropy',\n",
    "                  optimizer = opt,\n",
    "                  metrics = (['accuracy']))"
   ]
  },
  {
   "cell_type": "code",
   "execution_count": 12,
   "metadata": {},
   "outputs": [],
   "source": [
    "from tensorflow.keras.callbacks import EarlyStopping, ReduceLROnPlateau"
   ]
  },
  {
   "cell_type": "code",
   "execution_count": null,
   "metadata": {},
   "outputs": [
    {
     "name": "stdout",
     "output_type": "stream",
     "text": [
      "WARNING:tensorflow:sample_weight modes were coerced from\n",
      "  ...\n",
      "    to  \n",
      "  ['...']\n",
      "WARNING:tensorflow:sample_weight modes were coerced from\n",
      "  ...\n",
      "    to  \n",
      "  ['...']\n",
      "Train for 2175 steps, validate for 544 steps\n",
      "Epoch 1/15\n",
      "2175/2175 [==============================] - 647s 297ms/step - loss: nan - accuracy: 0.0345 - val_loss: nan - val_accuracy: 0.0345\n",
      "Epoch 2/15\n",
      "1393/2175 [==================>...........] - ETA: 3:43 - loss: nan - accuracy: 0.0341"
     ]
    }
   ],
   "source": [
    "asl_model.fit(training, \n",
    "              epochs=15, \n",
    "              validation_data=validating,\n",
    "              callbacks=[EarlyStopping(patience=3, restore_best_weights=True),\n",
    "                         ReduceLROnPlateau(patience=2)])"
   ]
  },
  {
   "cell_type": "code",
   "execution_count": null,
   "metadata": {},
   "outputs": [],
   "source": []
  }
 ],
 "metadata": {
  "kernelspec": {
   "display_name": "Python 3",
   "language": "python",
   "name": "python3"
  },
  "language_info": {
   "codemirror_mode": {
    "name": "ipython",
    "version": 3
   },
   "file_extension": ".py",
   "mimetype": "text/x-python",
   "name": "python",
   "nbconvert_exporter": "python",
   "pygments_lexer": "ipython3",
   "version": "3.7.7"
  }
 },
 "nbformat": 4,
 "nbformat_minor": 4
}
