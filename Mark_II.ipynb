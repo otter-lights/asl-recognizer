{
 "cells": [
  {
   "cell_type": "code",
   "execution_count": null,
   "metadata": {},
   "outputs": [],
   "source": [
    "# CompEng Project, Second Attempt\n",
    "#\n",
    "# 11 layers total, adam optimizer\n",
    "# 63% accuracy"
   ]
  },
  {
   "cell_type": "code",
   "execution_count": 13,
   "metadata": {},
   "outputs": [],
   "source": [
    "import pandas as pd\n",
    "import numpy as np"
   ]
  },
  {
   "cell_type": "code",
   "execution_count": 14,
   "metadata": {},
   "outputs": [],
   "source": [
    "from tensorflow.python import keras"
   ]
  },
  {
   "cell_type": "code",
   "execution_count": 15,
   "metadata": {},
   "outputs": [],
   "source": [
    "from tensorflow.python.keras.models import Sequential\n",
    "from tensorflow.python.keras.layers import Dense, Flatten, Conv2D, Dropout, MaxPool2D"
   ]
  },
  {
   "cell_type": "code",
   "execution_count": 16,
   "metadata": {},
   "outputs": [],
   "source": [
    "from tensorflow.python.keras.preprocessing.image import ImageDataGenerator"
   ]
  },
  {
   "cell_type": "code",
   "execution_count": 17,
   "metadata": {},
   "outputs": [
    {
     "name": "stdout",
     "output_type": "stream",
     "text": [
      "Found 69600 images belonging to 29 classes.\n",
      "Found 17400 images belonging to 29 classes.\n"
     ]
    }
   ],
   "source": [
    "data_gen = ImageDataGenerator(validation_split = 0.2)\n",
    "training = data_gen.flow_from_directory('asl-alphabet/asl_alphabet_train/asl_alphabet_train', \n",
    "                                         class_mode = 'categorical', \n",
    "                                         batch_size = 64,\n",
    "                                         target_size = (64, 64),\n",
    "                                         subset = 'training')\n",
    "validating = data_gen.flow_from_directory('asl-alphabet/asl_alphabet_train/asl_alphabet_train',\n",
    "                                           target_size = (64, 64),\n",
    "                                           subset = 'validation')"
   ]
  },
  {
   "cell_type": "code",
   "execution_count": 18,
   "metadata": {},
   "outputs": [],
   "source": [
    "asl_model = Sequential()"
   ]
  },
  {
   "cell_type": "code",
   "execution_count": 19,
   "metadata": {},
   "outputs": [],
   "source": [
    "asl_model.add(Conv2D(64, kernel_size=(3, 3),\n",
    "                 activation='relu',\n",
    "                 input_shape=(64,64,3)))\n",
    "asl_model.add(Dropout(0.5))\n",
    "asl_model.add(Conv2D(20, kernel_size=(3, 3), activation='relu'))\n",
    "asl_model.add(MaxPool2D(pool_size = [3,3]))\n",
    "asl_model.add(Dropout(0.5))\n",
    "asl_model.add(Conv2D(20, kernel_size=(3, 3), activation='relu'))\n",
    "asl_model.add(Dropout(0.3))\n",
    "asl_model.add(Conv2D(20, kernel_size=(3, 3), activation='relu'))\n",
    "asl_model.add(Flatten())\n",
    "asl_model.add(Dense(128, activation='relu'))\n",
    "asl_model.add(Dense(29, activation='softmax'))"
   ]
  },
  {
   "cell_type": "code",
   "execution_count": 20,
   "metadata": {},
   "outputs": [
    {
     "name": "stdout",
     "output_type": "stream",
     "text": [
      "Model: \"sequential_1\"\n",
      "_________________________________________________________________\n",
      "Layer (type)                 Output Shape              Param #   \n",
      "=================================================================\n",
      "conv2d_4 (Conv2D)            (None, 62, 62, 64)        1792      \n",
      "_________________________________________________________________\n",
      "dropout_3 (Dropout)          (None, 62, 62, 64)        0         \n",
      "_________________________________________________________________\n",
      "conv2d_5 (Conv2D)            (None, 60, 60, 20)        11540     \n",
      "_________________________________________________________________\n",
      "max_pooling2d_1 (MaxPooling2 (None, 20, 20, 20)        0         \n",
      "_________________________________________________________________\n",
      "dropout_4 (Dropout)          (None, 20, 20, 20)        0         \n",
      "_________________________________________________________________\n",
      "conv2d_6 (Conv2D)            (None, 18, 18, 20)        3620      \n",
      "_________________________________________________________________\n",
      "dropout_5 (Dropout)          (None, 18, 18, 20)        0         \n",
      "_________________________________________________________________\n",
      "conv2d_7 (Conv2D)            (None, 16, 16, 20)        3620      \n",
      "_________________________________________________________________\n",
      "flatten_1 (Flatten)          (None, 5120)              0         \n",
      "_________________________________________________________________\n",
      "dense_2 (Dense)              (None, 128)               655488    \n",
      "_________________________________________________________________\n",
      "dense_3 (Dense)              (None, 29)                3741      \n",
      "=================================================================\n",
      "Total params: 679,801\n",
      "Trainable params: 679,801\n",
      "Non-trainable params: 0\n",
      "_________________________________________________________________\n"
     ]
    }
   ],
   "source": [
    "asl_model.summary()"
   ]
  },
  {
   "cell_type": "code",
   "execution_count": 21,
   "metadata": {},
   "outputs": [],
   "source": [
    "asl_model.compile(loss = 'categorical_crossentropy',\n",
    "                  optimizer = 'adam',\n",
    "                  metrics = (['accuracy']))"
   ]
  },
  {
   "cell_type": "code",
   "execution_count": 22,
   "metadata": {},
   "outputs": [],
   "source": [
    "from tensorflow.python.keras.callbacks import EarlyStopping, ModelCheckpoint"
   ]
  },
  {
   "cell_type": "code",
   "execution_count": 24,
   "metadata": {},
   "outputs": [
    {
     "name": "stdout",
     "output_type": "stream",
     "text": [
      "WARNING:tensorflow:sample_weight modes were coerced from\n",
      "  ...\n",
      "    to  \n",
      "  ['...']\n",
      "WARNING:tensorflow:sample_weight modes were coerced from\n",
      "  ...\n",
      "    to  \n",
      "  ['...']\n",
      "Train for 1088 steps, validate for 544 steps\n",
      "Epoch 1/10\n",
      "1088/1088 [==============================] - 661s 607ms/step - loss: 3.6729 - accuracy: 0.0376 - val_loss: 3.3587 - val_accuracy: 0.0421\n",
      "Epoch 2/10\n",
      "1088/1088 [==============================] - 649s 596ms/step - loss: 3.2591 - accuracy: 0.0594 - val_loss: 3.2684 - val_accuracy: 0.0755\n",
      "Epoch 3/10\n",
      "1088/1088 [==============================] - 688s 632ms/step - loss: 2.5857 - accuracy: 0.2326 - val_loss: 2.2063 - val_accuracy: 0.3478\n",
      "Epoch 4/10\n",
      "1088/1088 [==============================] - 665s 611ms/step - loss: 1.0764 - accuracy: 0.6382 - val_loss: 1.6506 - val_accuracy: 0.4860\n",
      "Epoch 5/10\n",
      "1088/1088 [==============================] - 653s 601ms/step - loss: 0.5359 - accuracy: 0.8156 - val_loss: 1.5071 - val_accuracy: 0.5288\n",
      "Epoch 6/10\n",
      "1088/1088 [==============================] - 667s 613ms/step - loss: 0.3290 - accuracy: 0.8868 - val_loss: 1.2177 - val_accuracy: 0.6164\n",
      "Epoch 7/10\n",
      "1088/1088 [==============================] - 661s 607ms/step - loss: 0.2335 - accuracy: 0.9196 - val_loss: 1.2816 - val_accuracy: 0.6224\n",
      "Epoch 8/10\n",
      "1088/1088 [==============================] - 676s 621ms/step - loss: 0.1915 - accuracy: 0.9348 - val_loss: 1.2999 - val_accuracy: 0.6159\n",
      "Epoch 9/10\n",
      "1088/1088 [==============================] - 656s 603ms/step - loss: 0.1628 - accuracy: 0.9452 - val_loss: 1.2744 - val_accuracy: 0.6382\n",
      "Epoch 10/10\n",
      "1088/1088 [==============================] - 658s 605ms/step - loss: 0.1393 - accuracy: 0.9527 - val_loss: 1.3355 - val_accuracy: 0.6305\n"
     ]
    },
    {
     "data": {
      "text/plain": [
       "<tensorflow.python.keras.callbacks.History at 0x2d01692af48>"
      ]
     },
     "execution_count": 24,
     "metadata": {},
     "output_type": "execute_result"
    }
   ],
   "source": [
    "asl_model.fit(training, \n",
    "              epochs=10,\n",
    "              validation_data=validating)"
   ]
  },
  {
   "cell_type": "code",
   "execution_count": null,
   "metadata": {},
   "outputs": [],
   "source": []
  }
 ],
 "metadata": {
  "kernelspec": {
   "display_name": "Python 3",
   "language": "python",
   "name": "python3"
  },
  "language_info": {
   "codemirror_mode": {
    "name": "ipython",
    "version": 3
   },
   "file_extension": ".py",
   "mimetype": "text/x-python",
   "name": "python",
   "nbconvert_exporter": "python",
   "pygments_lexer": "ipython3",
   "version": "3.7.7"
  }
 },
 "nbformat": 4,
 "nbformat_minor": 4
}
