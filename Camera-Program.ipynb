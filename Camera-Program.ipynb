{
 "cells": [
  {
   "cell_type": "code",
   "execution_count": 1,
   "metadata": {},
   "outputs": [],
   "source": [
    "import cv2\n",
    "import math\n",
    "import numpy as np\n",
    "from PIL import Image\n",
    "from tensorflow.keras import models"
   ]
  },
  {
   "cell_type": "code",
   "execution_count": 2,
   "metadata": {},
   "outputs": [],
   "source": [
    "def draw_rect(frame):\n",
    "    cv2.rectangle(frame, (100, 100), (300, 300), (255,0,0), 2)\n",
    "    return frame"
   ]
  },
  {
   "cell_type": "code",
   "execution_count": 4,
   "metadata": {},
   "outputs": [],
   "source": [
    "def categorize(letter):\n",
    "    if letter == 0:\n",
    "        return 'a'\n",
    "    elif letter == 1:\n",
    "        return 'b'\n",
    "    elif letter == 2:\n",
    "        return 'c'\n",
    "    elif letter == 3:\n",
    "        return 'd'\n",
    "    elif letter == 4:\n",
    "        return 'e'\n",
    "    elif letter == 5:\n",
    "        return 'f'\n",
    "    elif letter == 6:\n",
    "        return 'g'\n",
    "    elif letter == 7:\n",
    "        return 'h'\n",
    "    elif letter == 8:\n",
    "        return 'i'\n",
    "    elif letter == 9:\n",
    "        return 'j'\n",
    "    elif letter == 10:\n",
    "        return 'k'\n",
    "    elif letter == 11:\n",
    "        return 'l'\n",
    "    elif letter == 12:\n",
    "        return 'm'\n",
    "    elif letter == 13:\n",
    "        return 'n'\n",
    "    elif letter == 14:\n",
    "        return 'o'\n",
    "    elif letter == 15:\n",
    "        return 'p'\n",
    "    elif letter == 16:\n",
    "        return 'q'\n",
    "    elif letter == 17:\n",
    "        return 'r'\n",
    "    elif letter == 18:\n",
    "        return 's'\n",
    "    elif letter == 19:\n",
    "        return 't'\n",
    "    elif letter == 20:\n",
    "        return 'u'\n",
    "    elif letter == 21:\n",
    "        return 'v'\n",
    "    elif letter == 22:\n",
    "        return 'w'\n",
    "    elif letter == 23:\n",
    "        return 'x'\n",
    "    elif letter == 24:\n",
    "        return 'y'\n",
    "    elif letter == 25:\n",
    "        return 'z'\n",
    "    else:\n",
    "        return 'error'"
   ]
  },
  {
   "cell_type": "code",
   "execution_count": 5,
   "metadata": {},
   "outputs": [],
   "source": [
    "asl_model = models.load_model(\"200p-model.h5\")"
   ]
  },
  {
   "cell_type": "code",
   "execution_count": 39,
   "metadata": {},
   "outputs": [
    {
     "name": "stdout",
     "output_type": "stream",
     "text": [
      "z\n"
     ]
    }
   ],
   "source": [
    "image = Image.open('asl-alphabet/asl_alphabet_test/asl_alphabet_test/Z_test.jpg')\n",
    "\n",
    "image = image.resize((200,200))\n",
    "image.show()\n",
    "array = np.array(image)\n",
    "    \n",
    "array = np.expand_dims(array, axis=0)\n",
    "\n",
    "letter = np.argmax(asl_model.predict(array))\n",
    "print (categorize(letter))"
   ]
  },
  {
   "cell_type": "code",
   "execution_count": 5,
   "metadata": {},
   "outputs": [],
   "source": [
    "# stream = cv2.VideoCapture(0)"
   ]
  },
  {
   "cell_type": "code",
   "execution_count": 6,
   "metadata": {},
   "outputs": [],
   "source": [
    "# https://medium.com/@jinilcs/a-simple-keras-model-on-my-laptop-webcam-dda77521e6a0"
   ]
  },
  {
   "cell_type": "code",
   "execution_count": 7,
   "metadata": {},
   "outputs": [],
   "source": [
    "#The issue of always predicting 'F' could be because the image dimensions are too big, need to find a way to \n",
    "#crop the input down to just the hand"
   ]
  },
  {
   "cell_type": "code",
   "execution_count": 43,
   "metadata": {
    "scrolled": true
   },
   "outputs": [
    {
     "name": "stdout",
     "output_type": "stream",
     "text": [
      "x\n",
      "x\n",
      "x\n",
      "x\n",
      "x\n",
      "x\n",
      "x\n",
      "c\n",
      "x\n",
      "x\n",
      "x\n",
      "x\n",
      "x\n",
      "x\n",
      "x\n",
      "x\n",
      "x\n"
     ]
    }
   ],
   "source": [
    "stream = cv2.VideoCapture(0)\n",
    "\n",
    "while True:\n",
    "    _, frame = stream.read()\n",
    "    frame = cv2.flip(frame, 1)\n",
    "    draw_rect(frame)\n",
    "    cv2.imshow(\"Capturing\", frame)\n",
    "    \n",
    "    \n",
    "    \n",
    "    \n",
    "    take = cv2.waitKey(1)\n",
    "    if take == ord('a'):\n",
    "        img = Image.fromarray(frame)\n",
    "        img_array = np.array(img)\n",
    "    \n",
    "        img_array = img_array[100:300,100:300,:]\n",
    "    \n",
    "        img_array = np.expand_dims(img_array, axis=0)\n",
    "        prediction = asl_model.predict(img_array)\n",
    "    \n",
    "        letter = np.argmax(prediction)\n",
    "        \n",
    "        print(categorize(letter))\n",
    "    \n",
    "    \n",
    "    \n",
    "    \n",
    "    \n",
    "    key=cv2.waitKey(1)\n",
    "    if key == ord('s'):\n",
    "                break\n",
    "            \n",
    "stream.release()\n",
    "cv2.destroyAllWindows()"
   ]
  },
  {
   "cell_type": "code",
   "execution_count": null,
   "metadata": {},
   "outputs": [],
   "source": []
  },
  {
   "cell_type": "code",
   "execution_count": null,
   "metadata": {},
   "outputs": [],
   "source": []
  }
 ],
 "metadata": {
  "kernelspec": {
   "display_name": "Python 3",
   "language": "python",
   "name": "python3"
  },
  "language_info": {
   "codemirror_mode": {
    "name": "ipython",
    "version": 3
   },
   "file_extension": ".py",
   "mimetype": "text/x-python",
   "name": "python",
   "nbconvert_exporter": "python",
   "pygments_lexer": "ipython3",
   "version": "3.7.7"
  }
 },
 "nbformat": 4,
 "nbformat_minor": 4
}
